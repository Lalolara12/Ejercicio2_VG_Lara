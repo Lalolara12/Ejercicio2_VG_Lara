{
 "cells": [
  {
   "cell_type": "code",
   "execution_count": null,
   "id": "bd82b782-44cb-4e54-8e16-13e5bfa52a7a",
   "metadata": {},
   "outputs": [],
   "source": []
  }
 ],
 "metadata": {
  "kernelspec": {
   "display_name": "",
   "name": ""
  },
  "language_info": {
   "name": ""
  }
 },
 "nbformat": 4,
 "nbformat_minor": 5
}
